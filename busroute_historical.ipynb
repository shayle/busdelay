{
 "cells": [
  {
   "cell_type": "code",
   "execution_count": 556,
   "metadata": {
    "collapsed": false
   },
   "outputs": [
    {
     "name": "stdout",
     "output_type": "stream",
     "text": [
      "Populating the interactive namespace from numpy and matplotlib\n"
     ]
    },
    {
     "name": "stderr",
     "output_type": "stream",
     "text": [
      "/Users/shay/anaconda2/lib/python2.7/site-packages/IPython/core/magics/pylab.py:161: UserWarning: pylab import has clobbered these variables: ['dist']\n",
      "`%matplotlib` prevents importing * from pylab and numpy\n",
      "  \"\\n`%matplotlib` prevents importing * from pylab and numpy\"\n"
     ]
    }
   ],
   "source": [
    "import os, sys\n",
    "import pandas as pd\n",
    "import geopandas as gpd\n",
    "import pylab as pl\n",
    "import seaborn as sns\n",
    "import numpy as np\n",
    "import requests\n",
    "import zipfile as zf\n",
    "from google.transit import gtfs_realtime_pb2 as gtfs\n",
    "import json\n",
    "import lzmaffi as lzma\n",
    "import shutil\n",
    "import shapely.geometry as geom\n",
    "from shapely.geometry import Point\n",
    "import pyproj\n",
    "\n",
    "% pylab inline"
   ]
  },
  {
   "cell_type": "code",
   "execution_count": 3,
   "metadata": {
    "collapsed": false
   },
   "outputs": [],
   "source": [
    "# data string in YYYYMMDD format\n",
    "def bustimedl(date): \n",
    "    ''' \n",
    "    takes date string in YYYYMMDD format and downloads bus time data\n",
    "    '''\n",
    "    \n",
    "    yr = date[:4]\n",
    "    mnth = date[4:6]\n",
    "\n",
    "    fn = 'bus_time_' + date + '.csv'\n",
    "\n",
    "    if os.path.exists('data/' + fn + '.xz'): \n",
    "        print 'Already downloaded'\n",
    "    else: \n",
    "        baseurl = 'http://data.mytransit.nyc/bus_time/' \n",
    "        url = baseurl + yr + '/' + yr + '-' + mnth + '/' + fn + '.xz'\n",
    "        r = requests.get(url)\n",
    "        with open(fn + '.xz', 'wb') as f: \n",
    "            f.write(r.content)\n",
    "            f.close()\n",
    "        shutil.move(fn + '.xz', 'data')"
   ]
  },
  {
   "cell_type": "code",
   "execution_count": 63,
   "metadata": {
    "collapsed": false
   },
   "outputs": [],
   "source": [
    "def create_one_line(date, route): \n",
    "    ''' \n",
    "    create csv for just one route'''\n",
    "    fn = 'bus_time_' + date + '.csv'\n",
    "    colnames = ['timestamp', 'vehicle_id', 'latitude', 'longitude', 'bearing',\n",
    "                'progress', 'service_date', 'trip_id', 'block_assigned',\n",
    "                 'next_stop_id', 'dist_along_route', 'dist_from_stop']\n",
    "    try: \n",
    "        df = pd.read_csv(fn, header=None, names=colnames)\n",
    "    except:\n",
    "        with lzma.open('data/' + fn + '.xz') as lz: \n",
    "            with open(fn, 'wb') as fi:\n",
    "                for line in lz: \n",
    "                    if '_' + route + '_' in line: \n",
    "                        fi.write(line)\n",
    "            fi.close()\n",
    "        lz.close()\n",
    "        df = pd.read_csv(fn, header=None, names=colnames)\n",
    "    return df"
   ]
  },
  {
   "cell_type": "code",
   "execution_count": 51,
   "metadata": {
    "collapsed": false
   },
   "outputs": [],
   "source": [
    "days = np.linspace(17, 28, 12)\n",
    "dates = ['201704' + str(int(day)) for day in days]"
   ]
  },
  {
   "cell_type": "code",
   "execution_count": 64,
   "metadata": {
    "collapsed": false
   },
   "outputs": [
    {
     "name": "stdout",
     "output_type": "stream",
     "text": [
      "Already downloaded\n"
     ]
    },
    {
     "name": "stderr",
     "output_type": "stream",
     "text": [
      "/Users/shay/anaconda2/lib/python2.7/site-packages/lzmaffi/_lzmamodule2.py:348: UserWarning: implicit cast from 'char *' to a different pointer type: will be forbidden in the future (check that the types are as you expect; use an explicit ffi.cast() if they are correct)\n",
      "  lzret = fun(*args)\n",
      "/Users/shay/anaconda2/lib/python2.7/site-packages/lzmaffi/_lzmamodule2.py:733: UserWarning: implicit cast from 'char *' to a different pointer type: will be forbidden in the future (check that the types are as you expect; use an explicit ffi.cast() if they are correct)\n",
      "  lzs.next_in = in_ = ffi.new('char[]', data)\n"
     ]
    },
    {
     "name": "stdout",
     "output_type": "stream",
     "text": [
      "Already downloaded\n",
      "Already downloaded\n",
      "Already downloaded\n",
      "Already downloaded\n",
      "Already downloaded\n",
      "Already downloaded\n",
      "Already downloaded\n",
      "Already downloaded\n",
      "Already downloaded\n",
      "Already downloaded\n",
      "Already downloaded\n"
     ]
    }
   ],
   "source": [
    "b35 = pd.DataFrame()\n",
    "for date in dates:\n",
    "    bustimedl(date)\n",
    "    temp = create_one_line(date, 'B35')\n",
    "    b35 = b35.append(temp)"
   ]
  },
  {
   "cell_type": "code",
   "execution_count": 70,
   "metadata": {
    "collapsed": false
   },
   "outputs": [],
   "source": [
    "b35.timestamp = pd.to_datetime(b35.timestamp)"
   ]
  },
  {
   "cell_type": "code",
   "execution_count": 71,
   "metadata": {
    "collapsed": false
   },
   "outputs": [],
   "source": [
    "b35['geometry'] = [Point(xy) for xy in zip(b35.longitude, b35.latitude)]"
   ]
  },
  {
   "cell_type": "code",
   "execution_count": 72,
   "metadata": {
    "collapsed": false
   },
   "outputs": [],
   "source": [
    "b35 = gpd.GeoDataFrame(b35)"
   ]
  },
  {
   "cell_type": "code",
   "execution_count": 9,
   "metadata": {
    "collapsed": false
   },
   "outputs": [],
   "source": [
    "#that is not what the bus route looks like..."
   ]
  },
  {
   "cell_type": "code",
   "execution_count": 10,
   "metadata": {
    "collapsed": false
   },
   "outputs": [
    {
     "data": {
      "text/plain": [
       "<matplotlib.axes._subplots.AxesSubplot at 0x113b5c6d0>"
      ]
     },
     "execution_count": 10,
     "metadata": {},
     "output_type": "execute_result"
    },
    {
     "data": {
      "image/png": "[encoded data removed]",
      "text/plain": [
       "<matplotlib.figure.Figure at 0x112edac10>"
      ]
     },
     "metadata": {},
     "output_type": "display_data"
    }
   ],
   "source": [
    "b35.plot()"
   ]
  },
  {
   "cell_type": "code",
   "execution_count": 73,
   "metadata": {
    "collapsed": false
   },
   "outputs": [],
   "source": [
    "import geocoder"
   ]
  },
  {
   "cell_type": "code",
   "execution_count": 74,
   "metadata": {
    "collapsed": false
   },
   "outputs": [],
   "source": [
    "# collect rough geocoordinates of intersections of interest\n",
    "mcdonald_inter = geocoder.google('McDonald Ave and Church Ave, Brooklyn')\n",
    "e18_inter = geocoder.google('E 18 and Church Ave, Brooklyn')"
   ]
  },
  {
   "cell_type": "code",
   "execution_count": 75,
   "metadata": {
    "collapsed": false
   },
   "outputs": [
    {
     "data": {
      "text/plain": [
       "[40.6494523, -73.9630634]"
      ]
     },
     "execution_count": 75,
     "metadata": {},
     "output_type": "execute_result"
    }
   ],
   "source": [
    "e18_inter.latlng"
   ]
  },
  {
   "cell_type": "code",
   "execution_count": 76,
   "metadata": {
    "collapsed": false
   },
   "outputs": [],
   "source": [
    "x = (e18_inter.lng, mcdonald_inter.lng)\n",
    "y = (e18_inter.lat, mcdonald_inter.lat)\n",
    "boundary = geom.geo.box(min(x), min(y), max(x), max(y))"
   ]
  },
  {
   "cell_type": "code",
   "execution_count": null,
   "metadata": {
    "collapsed": true
   },
   "outputs": [],
   "source": []
  },
  {
   "cell_type": "code",
   "execution_count": 109,
   "metadata": {
    "collapsed": false
   },
   "outputs": [],
   "source": [
    "b35_ofinterest = b35[b35.within(boundary)]\n"
   ]
  },
  {
   "cell_type": "code",
   "execution_count": 320,
   "metadata": {
    "collapsed": false
   },
   "outputs": [
    {
     "name": "stderr",
     "output_type": "stream",
     "text": [
      "/Users/shay/anaconda2/lib/python2.7/site-packages/ipykernel/__main__.py:1: SettingWithCopyWarning: \n",
      "A value is trying to be set on a copy of a slice from a DataFrame.\n",
      "Try using .loc[row_indexer,col_indexer] = value instead\n",
      "\n",
      "See the caveats in the documentation: http://pandas.pydata.org/pandas-docs/stable/indexing.html#indexing-view-versus-copy\n",
      "  if __name__ == '__main__':\n"
     ]
    }
   ],
   "source": [
    "b35_ofinterest['weekday'] = b35_ofinterest.timestamp.apply(lambda x: x.weekday())\n",
    "b35_ofinterest = b35_ofinterest[b35_ofinterest.weekday < 5]\n",
    "b35_ofinterest = b35_ofinterest[b35_ofinterest.bearing > 30]"
   ]
  },
  {
   "cell_type": "code",
   "execution_count": 674,
   "metadata": {
    "collapsed": false
   },
   "outputs": [
    {
     "data": {
      "text/plain": [
       "array([0, 1, 2, 3, 4])"
      ]
     },
     "execution_count": 674,
     "metadata": {},
     "output_type": "execute_result"
    }
   ],
   "source": []
  },
  {
   "cell_type": "code",
   "execution_count": 78,
   "metadata": {
    "collapsed": false,
    "scrolled": true
   },
   "outputs": [],
   "source": [
    "from fiona.crs import from_epsg"
   ]
  },
  {
   "cell_type": "code",
   "execution_count": 110,
   "metadata": {
    "collapsed": false
   },
   "outputs": [],
   "source": [
    "b35_ofinterest.crs = from_epsg(4326)\n",
    "b35_ofinterest = b35_ofinterest.to_crs(epsg = 2263)"
   ]
  },
  {
   "cell_type": "code",
   "execution_count": 82,
   "metadata": {
    "collapsed": false
   },
   "outputs": [],
   "source": [
    "proj = pyproj.Proj(init=\"epsg:2263\", preserve_units=True)\n",
    "mcdonald = Point(proj(mcdonald_inter.lng, mcdonald_inter.lat))\n",
    "e18 = Point(proj(e18_inter.lng, e18_inter.lat))"
   ]
  },
  {
   "cell_type": "code",
   "execution_count": 250,
   "metadata": {
    "collapsed": false
   },
   "outputs": [],
   "source": [
    "routedist = e18.distance(mcdonald) * 0.0003048 # convert foot distance to km"
   ]
  },
  {
   "cell_type": "code",
   "execution_count": 572,
   "metadata": {
    "collapsed": false
   },
   "outputs": [
    {
     "data": {
      "text/plain": [
       "<matplotlib.axes._subplots.AxesSubplot at 0x14e6e9ad0>"
      ]
     },
     "execution_count": 572,
     "metadata": {},
     "output_type": "execute_result"
    },
    {
     "data": {
      "image/png": "[encoded data removed]",
      "text/plain": [
       "<matplotlib.figure.Figure at 0x14e4fe350>"
      ]
     },
     "metadata": {},
     "output_type": "display_data"
    }
   ],
   "source": [
    "b35_ofinterest.plot()"
   ]
  },
  {
   "cell_type": "code",
   "execution_count": 681,
   "metadata": {
    "collapsed": false
   },
   "outputs": [],
   "source": [
    "def calcTimeDis(df): \n",
    "    '''\n",
    "    takes df\n",
    "    sorts by trip id and time\n",
    "    westward only\n",
    "    returns numpy array of difference in distance between first and last gps ping (in meters)\n",
    "    returns numpy array of difference in time between first and last gps ping (in minutes)\n",
    "    '''\n",
    "    triplen_west = []\n",
    "    timelen_west = []\n",
    "    for trip in df.uniqueid.unique():\n",
    "        temp_df = df[df.uniqueid == trip]\n",
    "        temp_df = temp_df.sort_values('timestamp')\n",
    "        if len(temp_df) > 4:        \n",
    "            \n",
    "            dist1 = temp_df.geometry.iloc[0]\n",
    "            time1 = temp_df.timestamp.iloc[0]\n",
    "            dist2 = temp_df.geometry.iloc[len(temp_df)-1]\n",
    "            time2 = temp_df.timestamp.iloc[len(temp_df)-1]\n",
    "            timedelta = time2 - time1\n",
    "            distance = dist1.distance(dist2) * .0003048\n",
    "            if distance > 0: \n",
    "                triplen_west.append(distance)\n",
    "                timelen_west.append(timedelta.seconds * 60) \n",
    "    return np.array(triplen_west), np.array(timelen_west)"
   ]
  },
  {
   "cell_type": "code",
   "execution_count": 209,
   "metadata": {
    "collapsed": false
   },
   "outputs": [],
   "source": [
    "# compute weighted avg for time taken to travese the route\n",
    "# therefore length/time (feet per minute)"
   ]
  },
  {
   "cell_type": "code",
   "execution_count": 323,
   "metadata": {
    "collapsed": false
   },
   "outputs": [],
   "source": [
    "b35_ofinterest['uniqueid'] = [str(x) for x in b35_ofinterest.service_date] + b35_ofinterest.trip_id"
   ]
  },
  {
   "cell_type": "code",
   "execution_count": 678,
   "metadata": {
    "collapsed": false
   },
   "outputs": [
    {
     "name": "stdout",
     "output_type": "stream",
     "text": [
      "2017-04-17 00:06:52\n",
      "2017-04-17 00:02:04\n",
      "0 days 00:04:48\n"
     ]
    },
    {
     "data": {
      "text/plain": [
       "(array([], dtype=float64), array([], dtype=float64))"
      ]
     },
     "execution_count": 678,
     "metadata": {},
     "output_type": "execute_result"
    }
   ],
   "source": [
    "calcTimeDis(b35_ofinterest)"
   ]
  },
  {
   "cell_type": "code",
   "execution_count": 520,
   "metadata": {
    "collapsed": false
   },
   "outputs": [],
   "source": [
    "def nonlinearmod(dens, tm_est = 7/5, station = 7, length = routedist): \n",
    "    '''\n",
    "    Normal Conditions Bus Delay Model (Non-Linear) - \n",
    "    \n",
    "    Takes estimated traffic density\n",
    "    length: (kilometers)\n",
    "    station: number of bus stops on length\n",
    "    estimated total time / moving time \n",
    "   \n",
    "\n",
    "    '''\n",
    "\n",
    "    x1 = 5.722 * (10**.07) * (dens**3)\n",
    "    x2 = .3709 * (length**3)\n",
    "    x3 = .1174 * (station**2)\n",
    "    x4 = 0.08 * tm_est\n",
    "    return 0.1403 + x1 + x2 + x3 + x4"
   ]
  },
  {
   "cell_type": "code",
   "execution_count": 521,
   "metadata": {
    "collapsed": false
   },
   "outputs": [],
   "source": [
    "def linearmod(densl, denst, mt_est = 5/7, length = routedist, station = 7): \n",
    "    '''\n",
    "    Normal Conditions Bus Delay Model (Linear) \n",
    "    Takes estimated traffic density - left hand turn\n",
    "    estimated traffic density - through traffic\n",
    "    estimated moving time / total time \n",
    "    length in kilometers \n",
    "    and number of stations \n",
    "    '''\n",
    "    x1 = 0.0287 * densl\n",
    "    x2 = 0.0168 * denst\n",
    "    x3 = .9654 * length\n",
    "    x4 = -1.1969 * mt_est\n",
    "    x5 = .1130 * station\n",
    "    return 0.4855 + x1 + x2 + x3 + x4 + x5"
   ]
  },
  {
   "cell_type": "code",
   "execution_count": 324,
   "metadata": {
    "collapsed": false
   },
   "outputs": [],
   "source": [
    "b35_ofinterest['hour'] = b35_ofinterest.timestamp.apply(lambda x: x.hour)"
   ]
  },
  {
   "cell_type": "code",
   "execution_count": 325,
   "metadata": {
    "collapsed": false
   },
   "outputs": [
    {
     "data": {
      "text/html": [
       "<div>\n",
       "<table border=\"1\" class=\"dataframe\">\n",
       "  <thead>\n",
       "    <tr style=\"text-align: right;\">\n",
       "      <th></th>\n",
       "      <th>timestamp</th>\n",
       "      <th>vehicle_id</th>\n",
       "      <th>latitude</th>\n",
       "      <th>longitude</th>\n",
       "      <th>bearing</th>\n",
       "      <th>progress</th>\n",
       "      <th>service_date</th>\n",
       "      <th>trip_id</th>\n",
       "      <th>block_assigned</th>\n",
       "      <th>next_stop_id</th>\n",
       "      <th>dist_along_route</th>\n",
       "      <th>dist_from_stop</th>\n",
       "      <th>geometry</th>\n",
       "      <th>hour</th>\n",
       "      <th>uniqueid</th>\n",
       "      <th>weekday</th>\n",
       "    </tr>\n",
       "  </thead>\n",
       "  <tbody>\n",
       "    <tr>\n",
       "      <th>7</th>\n",
       "      <td>2017-04-17 00:00:13</td>\n",
       "      <td>414</td>\n",
       "      <td>40.646038</td>\n",
       "      <td>-73.971654</td>\n",
       "      <td>202.67</td>\n",
       "      <td>0</td>\n",
       "      <td>20170416</td>\n",
       "      <td>JG_B7-Sunday-115900_B35_49</td>\n",
       "      <td>1</td>\n",
       "      <td>302766</td>\n",
       "      <td>5908.66</td>\n",
       "      <td>171.84</td>\n",
       "      <td>POINT (992116.1640478717 174646.7154330283)</td>\n",
       "      <td>0</td>\n",
       "      <td>20170416JG_B7-Sunday-115900_B35_49</td>\n",
       "      <td>0</td>\n",
       "    </tr>\n",
       "    <tr>\n",
       "      <th>23</th>\n",
       "      <td>2017-04-17 00:01:18</td>\n",
       "      <td>414</td>\n",
       "      <td>40.645464</td>\n",
       "      <td>-73.973068</td>\n",
       "      <td>202.13</td>\n",
       "      <td>0</td>\n",
       "      <td>20170416</td>\n",
       "      <td>JG_B7-Sunday-115900_B35_49</td>\n",
       "      <td>1</td>\n",
       "      <td>302766</td>\n",
       "      <td>5908.66</td>\n",
       "      <td>36.56</td>\n",
       "      <td>POINT (991723.8359212143 174437.467725515)</td>\n",
       "      <td>0</td>\n",
       "      <td>20170416JG_B7-Sunday-115900_B35_49</td>\n",
       "      <td>0</td>\n",
       "    </tr>\n",
       "    <tr>\n",
       "      <th>27</th>\n",
       "      <td>2017-04-17 00:01:50</td>\n",
       "      <td>414</td>\n",
       "      <td>40.644467</td>\n",
       "      <td>-73.975469</td>\n",
       "      <td>202.64</td>\n",
       "      <td>0</td>\n",
       "      <td>20170416</td>\n",
       "      <td>JG_B7-Sunday-115900_B35_49</td>\n",
       "      <td>1</td>\n",
       "      <td>302767</td>\n",
       "      <td>6147.12</td>\n",
       "      <td>44.02</td>\n",
       "      <td>POINT (991057.6418027944 174074.0376643678)</td>\n",
       "      <td>0</td>\n",
       "      <td>20170416JG_B7-Sunday-115900_B35_49</td>\n",
       "      <td>0</td>\n",
       "    </tr>\n",
       "    <tr>\n",
       "      <th>32</th>\n",
       "      <td>2017-04-17 00:02:04</td>\n",
       "      <td>444</td>\n",
       "      <td>40.649190</td>\n",
       "      <td>-73.963717</td>\n",
       "      <td>201.35</td>\n",
       "      <td>0</td>\n",
       "      <td>20170416</td>\n",
       "      <td>JG_B7-Sunday-116700_B35_39</td>\n",
       "      <td>1</td>\n",
       "      <td>302762</td>\n",
       "      <td>5121.4</td>\n",
       "      <td>140.43</td>\n",
       "      <td>POINT (994318.2475160047 175795.8879543969)</td>\n",
       "      <td>0</td>\n",
       "      <td>20170416JG_B7-Sunday-116700_B35_39</td>\n",
       "      <td>0</td>\n",
       "    </tr>\n",
       "    <tr>\n",
       "      <th>43</th>\n",
       "      <td>2017-04-17 00:02:22</td>\n",
       "      <td>414</td>\n",
       "      <td>40.643739</td>\n",
       "      <td>-73.977208</td>\n",
       "      <td>202.79</td>\n",
       "      <td>0</td>\n",
       "      <td>20170416</td>\n",
       "      <td>JG_B7-Sunday-115900_B35_49</td>\n",
       "      <td>1</td>\n",
       "      <td>302768</td>\n",
       "      <td>6326.81</td>\n",
       "      <td>56.15</td>\n",
       "      <td>POINT (990575.1178159509 173808.6770428368)</td>\n",
       "      <td>0</td>\n",
       "      <td>20170416JG_B7-Sunday-115900_B35_49</td>\n",
       "      <td>0</td>\n",
       "    </tr>\n",
       "  </tbody>\n",
       "</table>\n",
       "</div>"
      ],
      "text/plain": [
       "             timestamp  vehicle_id   latitude  longitude  bearing  progress  \\\n",
       "7  2017-04-17 00:00:13         414  40.646038 -73.971654   202.67         0   \n",
       "23 2017-04-17 00:01:18         414  40.645464 -73.973068   202.13         0   \n",
       "27 2017-04-17 00:01:50         414  40.644467 -73.975469   202.64         0   \n",
       "32 2017-04-17 00:02:04         444  40.649190 -73.963717   201.35         0   \n",
       "43 2017-04-17 00:02:22         414  40.643739 -73.977208   202.79         0   \n",
       "\n",
       "    service_date                     trip_id  block_assigned next_stop_id  \\\n",
       "7       20170416  JG_B7-Sunday-115900_B35_49               1       302766   \n",
       "23      20170416  JG_B7-Sunday-115900_B35_49               1       302766   \n",
       "27      20170416  JG_B7-Sunday-115900_B35_49               1       302767   \n",
       "32      20170416  JG_B7-Sunday-116700_B35_39               1       302762   \n",
       "43      20170416  JG_B7-Sunday-115900_B35_49               1       302768   \n",
       "\n",
       "   dist_along_route dist_from_stop  \\\n",
       "7           5908.66         171.84   \n",
       "23          5908.66          36.56   \n",
       "27          6147.12          44.02   \n",
       "32           5121.4         140.43   \n",
       "43          6326.81          56.15   \n",
       "\n",
       "                                       geometry  hour  \\\n",
       "7   POINT (992116.1640478717 174646.7154330283)     0   \n",
       "23   POINT (991723.8359212143 174437.467725515)     0   \n",
       "27  POINT (991057.6418027944 174074.0376643678)     0   \n",
       "32  POINT (994318.2475160047 175795.8879543969)     0   \n",
       "43  POINT (990575.1178159509 173808.6770428368)     0   \n",
       "\n",
       "                              uniqueid  weekday  \n",
       "7   20170416JG_B7-Sunday-115900_B35_49        0  \n",
       "23  20170416JG_B7-Sunday-115900_B35_49        0  \n",
       "27  20170416JG_B7-Sunday-115900_B35_49        0  \n",
       "32  20170416JG_B7-Sunday-116700_B35_39        0  \n",
       "43  20170416JG_B7-Sunday-115900_B35_49        0  "
      ]
     },
     "execution_count": 325,
     "metadata": {},
     "output_type": "execute_result"
    }
   ],
   "source": [
    "b35_ofinterest.head()"
   ]
  },
  {
   "cell_type": "code",
   "execution_count": 680,
   "metadata": {
    "collapsed": false
   },
   "outputs": [
    {
     "ename": "TypeError",
     "evalue": "unsupported operand type(s) for /: 'float' and 'Timedelta'",
     "output_type": "error",
     "traceback": [
      "\u001b[0;31m---------------------------------------------------------------------------\u001b[0m",
      "\u001b[0;31mTypeError\u001b[0m                                 Traceback (most recent call last)",
      "\u001b[0;32m<ipython-input-680-721276beb4b4>\u001b[0m in \u001b[0;36m<module>\u001b[0;34m()\u001b[0m\n\u001b[1;32m      3\u001b[0m \u001b[0;34m\u001b[0m\u001b[0m\n\u001b[1;32m      4\u001b[0m     \u001b[0mdistn\u001b[0m\u001b[0;34m,\u001b[0m \u001b[0mtime\u001b[0m \u001b[0;34m=\u001b[0m \u001b[0mcalcTimeDis\u001b[0m\u001b[0;34m(\u001b[0m\u001b[0mb35_early\u001b[0m\u001b[0;34m)\u001b[0m\u001b[0;34m\u001b[0m\u001b[0m\n\u001b[0;32m----> 5\u001b[0;31m     \u001b[0mavgspeed\u001b[0m \u001b[0;34m=\u001b[0m \u001b[0mmean\u001b[0m\u001b[0;34m(\u001b[0m\u001b[0mdistn\u001b[0m \u001b[0;34m/\u001b[0m \u001b[0mtime\u001b[0m \u001b[0;34m*\u001b[0m \u001b[0;36m60\u001b[0m\u001b[0;34m)\u001b[0m\u001b[0;34m\u001b[0m\u001b[0m\n\u001b[0m\u001b[1;32m      6\u001b[0m     \u001b[0mavgtime\u001b[0m \u001b[0;34m=\u001b[0m \u001b[0mroutedist\u001b[0m \u001b[0;34m/\u001b[0m \u001b[0mavgspeed\u001b[0m \u001b[0;34m*\u001b[0m \u001b[0;36m60\u001b[0m\u001b[0;34m\u001b[0m\u001b[0m\n\u001b[1;32m      7\u001b[0m     \u001b[0;32mprint\u001b[0m \u001b[0mhour\u001b[0m\u001b[0;34m,\u001b[0m \u001b[0mavgtime\u001b[0m\u001b[0;34m\u001b[0m\u001b[0m\n",
      "\u001b[0;31mTypeError\u001b[0m: unsupported operand type(s) for /: 'float' and 'Timedelta'"
     ]
    }
   ],
   "source": [
    "for hour in np.linspace(0, 23, 24): \n",
    "    b35_early = b35_ofinterest[b35_ofinterest.hour == hour]\n",
    "\n",
    "    distn, time = calcTimeDis(b35_early)\n",
    "    avgspeed = mean(distn / time * 60)\n",
    "    avgtime = routedist / avgspeed * 60\n",
    "    print hour, avgtime"
   ]
  },
  {
   "cell_type": "code",
   "execution_count": null,
   "metadata": {
    "collapsed": false
   },
   "outputs": [],
   "source": []
  },
  {
   "cell_type": "code",
   "execution_count": 682,
   "metadata": {
    "collapsed": false
   },
   "outputs": [],
   "source": [
    "# limit to only those trips with first gps ping within 100 feet of e18 and final\n",
    "# within 100 feet of mcdonald\n",
    "# between 9 and 10 am\n",
    "\n",
    "def limitedDF(initialdf, hour):\n",
    "    '''\n",
    "    takes dataframe and hour of interest\n",
    "    reduces dataframe to just that hour\n",
    "    returns new dataframe with just those points where first point is within 100 feet of \n",
    "    e 18 and 2nd is within 100 feet of mcdonald'''\n",
    "    \n",
    "    unique = []\n",
    "    date = []\n",
    "    distance = []\n",
    "    time = []\n",
    "    \n",
    "    df = initialdf[initialdf.hour == hour]\n",
    "    e18buff = e18.buffer(200)\n",
    "    mcdonbuff = mcdonald.buffer(200)\n",
    "    for trip in df.uniqueid.unique():\n",
    "        temp_df = df[df.uniqueid == trip]\n",
    "        temp_df = temp_df.sort_values('timestamp')\n",
    "        if temp_df.bearing.iloc[0] > 30: \n",
    "            dist1 = temp_df.geometry.iloc[0]\n",
    "            dist2 = temp_df.geometry.iloc[len(temp_df)-1]\n",
    "            time1 = temp_df.timestamp.iloc[0]\n",
    "            time2 = temp_df.timestamp.iloc[len(temp_df)-1]\n",
    "            timedelta = time2 - time1\n",
    "            if dist1.distance(dist2) * .0003048 > .95 * routedist:\n",
    "                unique.append(temp_df.uniqueid.iloc[0])\n",
    "                date.append(temp_df.service_date.iloc[0])\n",
    "                distance.append(dist1.distance(dist2) * .0003048)\n",
    "                time.append(timedelta)\n",
    "    resultsdf = pd.DataFrame({'uniqueid': unique,\n",
    "                'date': date,\n",
    "                'distance': distance,\n",
    "                'time': time})\n",
    "    return resultsdf"
   ]
  },
  {
   "cell_type": "code",
   "execution_count": 38,
   "metadata": {
    "collapsed": false
   },
   "outputs": [],
   "source": [
    "def calcVactual(actual, delays):\n",
    "    distance = 1.569\n",
    "    speedwodelays = 25 # kmph per paper\n",
    "    calc = distance / speedwodelays + delays\n",
    "    return actual - calc"
   ]
  },
  {
   "cell_type": "code",
   "execution_count": 683,
   "metadata": {
    "collapsed": false
   },
   "outputs": [],
   "source": [
    "acceptable = limitedDF(b35_ofinterest, 9)"
   ]
  },
  {
   "cell_type": "code",
   "execution_count": 700,
   "metadata": {
    "collapsed": false
   },
   "outputs": [],
   "source": [
    "acceptable.reset_index(inplace = True)"
   ]
  },
  {
   "cell_type": "code",
   "execution_count": 708,
   "metadata": {
    "collapsed": false
   },
   "outputs": [],
   "source": [
    "acceptable['timeminutes'] = [x.seconds / 60.0 for x in acceptable.time]"
   ]
  },
  {
   "cell_type": "code",
   "execution_count": 741,
   "metadata": {
    "collapsed": false
   },
   "outputs": [],
   "source": [
    "acceptable['time2'] = [acceptable.timeminutes[x] if acceptable.distance[x] == 1.569 else \n",
    "                       routedist/acceptable.distance[x] * acceptable.timeminutes[x] for x in acceptable.index]"
   ]
  },
  {
   "cell_type": "code",
   "execution_count": 744,
   "metadata": {
    "collapsed": false
   },
   "outputs": [
    {
     "data": {
      "text/plain": [
       "count    11.000000\n",
       "mean      8.497598\n",
       "std       1.880669\n",
       "min       5.968628\n",
       "25%       6.857316\n",
       "50%       8.709041\n",
       "75%       9.943494\n",
       "max      11.083333\n",
       "Name: time2, dtype: float64"
      ]
     },
     "execution_count": 744,
     "metadata": {},
     "output_type": "execute_result"
    }
   ],
   "source": [
    "acceptable.time2.d"
   ]
  },
  {
   "cell_type": "code",
   "execution_count": 749,
   "metadata": {
    "collapsed": false
   },
   "outputs": [
    {
     "data": {
      "image/png": "[encoded data removed]",
      "text/plain": [
       "<matplotlib.figure.Figure at 0x1647b6490>"
      ]
     },
     "metadata": {},
     "output_type": "display_data"
    }
   ],
   "source": [
    "sns.boxplot(acceptable.time2)\n",
    "pl.title('Distribution of Transportation Time for B35 Bus, E18 to McDonald')\n",
    "pl.xlabel('Time in Minutes')\n",
    "pl.savefig('Distribution.png')"
   ]
  },
  {
   "cell_type": "code",
   "execution_count": 645,
   "metadata": {
    "collapsed": false
   },
   "outputs": [],
   "source": [
    "personalobs = pd.read_csv('data/Bus Data - Sheet2.csv')"
   ]
  },
  {
   "cell_type": "code",
   "execution_count": 646,
   "metadata": {
    "collapsed": false
   },
   "outputs": [],
   "source": [
    "personalobs.time = personalobs.time * 60"
   ]
  },
  {
   "cell_type": "code",
   "execution_count": 647,
   "metadata": {
    "collapsed": false
   },
   "outputs": [],
   "source": [
    "personalobs.time = personalobs.time.apply(lambda x: int(x))\n",
    "personalobs.time = personalobs.time.apply(lambda x: time(minute = x / 60, second = x % 60))"
   ]
  },
  {
   "cell_type": "code",
   "execution_count": 648,
   "metadata": {
    "collapsed": false
   },
   "outputs": [],
   "source": [
    "from datetime import date, datetime, time\n",
    "timeobj = time(hour = 0)\n",
    "personalobs.time = personalobs.time.apply(lambda x: datetime.combine(date.today(), x) \n",
    "                       - datetime.combine(date.today(), timeobj))\n"
   ]
  },
  {
   "cell_type": "code",
   "execution_count": 689,
   "metadata": {
    "collapsed": false
   },
   "outputs": [],
   "source": [
    "acceptable = acceptable.append(personalobs)"
   ]
  },
  {
   "cell_type": "code",
   "execution_count": 750,
   "metadata": {
    "collapsed": false
   },
   "outputs": [
    {
     "data": {
      "text/plain": [
       "count    11.000000\n",
       "mean      8.497598\n",
       "std       1.880669\n",
       "min       5.968628\n",
       "25%       6.857316\n",
       "50%       8.709041\n",
       "75%       9.943494\n",
       "max      11.083333\n",
       "Name: time2, dtype: float64"
      ]
     },
     "execution_count": 750,
     "metadata": {},
     "output_type": "execute_result"
    }
   ],
   "source": [
    "acceptable.time2.describe()"
   ]
  },
  {
   "cell_type": "code",
   "execution_count": 650,
   "metadata": {
    "collapsed": false
   },
   "outputs": [],
   "source": [
    "# counts taken at Church Ave and Marlborough, 4/19, 4/21 and 4/26\n",
    "car_counts = [32.0, 40.0, 34.0]"
   ]
  },
  {
   "cell_type": "code",
   "execution_count": 651,
   "metadata": {
    "collapsed": false
   },
   "outputs": [],
   "source": [
    "# assuming it takes 7 minute for them to clear"
   ]
  },
  {
   "cell_type": "code",
   "execution_count": 658,
   "metadata": {
    "collapsed": false
   },
   "outputs": [
    {
     "data": {
      "text/plain": [
       "Timedelta('0 days 00:09:32.800000')"
      ]
     },
     "execution_count": 658,
     "metadata": {},
     "output_type": "execute_result"
    }
   ],
   "source": [
    "personalobs.time.mean()"
   ]
  },
  {
   "cell_type": "code",
   "execution_count": 417,
   "metadata": {
    "collapsed": false
   },
   "outputs": [],
   "source": [
    "densities = [x / routedist for x in car_counts]"
   ]
  },
  {
   "cell_type": "code",
   "execution_count": 524,
   "metadata": {
    "collapsed": false
   },
   "outputs": [
    {
     "data": {
      "text/plain": [
       "[20.386581266424027, 25.483226583030035, 21.66074259557553]"
      ]
     },
     "execution_count": 524,
     "metadata": {},
     "output_type": "execute_result"
    }
   ],
   "source": [
    "densities"
   ]
  },
  {
   "cell_type": "code",
   "execution_count": 559,
   "metadata": {
    "collapsed": true
   },
   "outputs": [],
   "source": [
    "test_dens = np.arange(10, 55, 5)"
   ]
  },
  {
   "cell_type": "code",
   "execution_count": 662,
   "metadata": {
    "collapsed": false
   },
   "outputs": [
    {
     "data": {
      "text/plain": [
       "Timedelta('0 days 00:09:32.800000')"
      ]
     },
     "execution_count": 662,
     "metadata": {},
     "output_type": "execute_result"
    }
   ],
   "source": [
    "personalobs.time.mean()"
   ]
  },
  {
   "cell_type": "code",
   "execution_count": 568,
   "metadata": {
    "collapsed": false
   },
   "outputs": [
    {
     "data": {
      "image/png": "[encoded data removed]",
      "text/plain": [
       "<matplotlib.figure.Figure at 0x14e62f610>"
      ]
     },
     "metadata": {},
     "output_type": "display_data"
    }
   ],
   "source": [
    "# run model for left hand turn density .1, through .9\n",
    "sns.set_context('talk')\n",
    "delayminutes = [linearmod(x * .1, x * .9) for x in test_dens]\n",
    "delayminutes2 = [linearmod(x * .1, x * .8) for x in test_dens]\n",
    "delayminutes3 = [linearmod(x * .2, x * .8) for x in test_dens]\n",
    "delayminutes4 = [linearmod(x * .2, x * .7) for x in test_dens]\n",
    "delayminutes5 = [linearmod(x * .3, x * .7) for x in test_dens]\n",
    "pl.plot(test_dens, delayminutes, label = 'Left: 10% Through: 90%')\n",
    "pl.plot(test_dens, delayminutes2, label = 'Left: 10% Throuogh: 80%')\n",
    "pl.plot(test_dens, delayminutes3, label = 'Left: 20% Through: 80%')\n",
    "pl.plot(test_dens, delayminutes4, label = 'Left: 20% Through: 70%')\n",
    "pl.plot(test_dens, delayminutes5, label = 'Left: 30% Through: 70%')\n",
    "\n",
    "pl.title('Linear Model Estimations for Different Densities')\n",
    "pl.xlabel('Total Density')\n",
    "pl.ylabel('Bus Delay Minutes')\n",
    "pl.legend()\n",
    "pl.savefig('linearmodel.png')"
   ]
  },
  {
   "cell_type": "code",
   "execution_count": 579,
   "metadata": {
    "collapsed": false
   },
   "outputs": [
    {
     "data": {
      "text/plain": [
       "3.767183864539704"
      ]
     },
     "execution_count": 579,
     "metadata": {},
     "output_type": "execute_result"
    }
   ],
   "source": [
    "routedist / 25 * 60"
   ]
  },
  {
   "cell_type": "code",
   "execution_count": 607,
   "metadata": {
    "collapsed": false
   },
   "outputs": [],
   "source": [
    "timeobj = datetime.time(hour = 0)"
   ]
  },
  {
   "cell_type": "code",
   "execution_count": 657,
   "metadata": {
    "collapsed": false
   },
   "outputs": [
    {
     "data": {
      "text/plain": [
       "date        2.017042e+07\n",
       "distance    1.525666e+00\n",
       "dtype: float64"
      ]
     },
     "execution_count": 657,
     "metadata": {},
     "output_type": "execute_result"
    }
   ],
   "source": [
    "distance"
   ]
  },
  {
   "cell_type": "code",
   "execution_count": null,
   "metadata": {
    "collapsed": false
   },
   "outputs": [],
   "source": []
  },
  {
   "cell_type": "code",
   "execution_count": null,
   "metadata": {
    "collapsed": true
   },
   "outputs": [],
   "source": []
  }
 ],
 "metadata": {
  "kernelspec": {
   "display_name": "Python 2",
   "language": "python",
   "name": "python2"
  },
  "language_info": {
   "codemirror_mode": {
    "name": "ipython",
    "version": 2
   },
   "file_extension": ".py",
   "mimetype": "text/x-python",
   "name": "python",
   "nbconvert_exporter": "python",
   "pygments_lexer": "ipython2",
   "version": "2.7.13"
  }
 },
 "nbformat": 4,
 "nbformat_minor": 2
}
