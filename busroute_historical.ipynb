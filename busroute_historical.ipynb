{
 "cells": [
  {
   "cell_type": "code",
   "execution_count": 175,
   "metadata": {
    "collapsed": false
   },
   "outputs": [
    {
     "name": "stdout",
     "output_type": "stream",
     "text": [
      "Populating the interactive namespace from numpy and matplotlib\n"
     ]
    }
   ],
   "source": [
    "import os, sys\n",
    "import pandas as pd\n",
    "import geopandas as gpd\n",
    "import pylab as pl\n",
    "import numpy as np\n",
    "import requests\n",
    "import zipfile as zf\n",
    "from google.transit import gtfs_realtime_pb2 as gtfs\n",
    "import json\n",
    "import lzmaffi as lzma\n",
    "import shutil\n",
    "from shapely.geometry import Point\n",
    "\n",
    "% pylab inline"
   ]
  },
  {
   "cell_type": "code",
   "execution_count": 116,
   "metadata": {
    "collapsed": false
   },
   "outputs": [],
   "source": [
    "# data string in YYYYMMDD format\n",
    "def bustimedl(date): \n",
    "    ''' \n",
    "    takes date string in YYYYMMDD format and downloads bus time data\n",
    "    '''\n",
    "    \n",
    "    yr = date[:4]\n",
    "    mnth = date[4:6]\n",
    "\n",
    "    fn = 'bus_time_' + date + '.csv'\n",
    "\n",
    "    if os.path.exists('data/' + fn + '.xz'): \n",
    "        print 'Already downloaded'\n",
    "    else: \n",
    "        baseurl = 'http://data.mytransit.nyc/bus_time/' \n",
    "        url = baseurl + yr + '/' + yr + '-' + mnth + '/' + fn + '.xz'\n",
    "        r = requests.get(url)\n",
    "        with open(fn + '.xz', 'wb') as f: \n",
    "            f.write(r.content)\n",
    "            f.close()\n",
    "        shutil.move(fn + '.xz', 'data')"
   ]
  },
  {
   "cell_type": "code",
   "execution_count": 117,
   "metadata": {
    "collapsed": false
   },
   "outputs": [
    {
     "name": "stdout",
     "output_type": "stream",
     "text": [
      "Already downloaded\n"
     ]
    }
   ],
   "source": [
    "date = '20170410'\n",
    "bustimedl(date)"
   ]
  },
  {
   "cell_type": "code",
   "execution_count": 160,
   "metadata": {
    "collapsed": false
   },
   "outputs": [],
   "source": [
    "def create_one_line(route): \n",
    "    ''' \n",
    "    create csv for just one route'''\n",
    "    \n",
    "    colnames = ['timestamp', 'vehicle_id', 'latitude', 'longitude', 'bearing',\n",
    "                'progress', 'service_date', 'trip_id', 'block_assigned',\n",
    "                 'next_stop_id', 'dist_along_route', 'dist_from_stop']\n",
    "    try: \n",
    "        df = pd.read_csv('stored_data.csv', header=None, names=colnames)\n",
    "    except:\n",
    "        with lzma.open('data/' + fn + '.xz') as lz: \n",
    "            with open('stored_data.csv', 'wb') as fi:\n",
    "                for line in lz: \n",
    "                    if route in line: \n",
    "                        fi.write(line)\n",
    "            fi.close()\n",
    "        lz.close()\n",
    "        df = pd.read_csv('stored_data.csv', header=None, names=colnames)\n",
    "    return df"
   ]
  },
  {
   "cell_type": "code",
   "execution_count": 161,
   "metadata": {
    "collapsed": false
   },
   "outputs": [],
   "source": [
    "b35 = create_one_line('B35')"
   ]
  },
  {
   "cell_type": "code",
   "execution_count": 193,
   "metadata": {
    "collapsed": false
   },
   "outputs": [],
   "source": [
    "b35['geometry'] = [Point(xy) for xy in zip(b35.longitude, b35.latitude)]"
   ]
  },
  {
   "cell_type": "code",
   "execution_count": 195,
   "metadata": {
    "collapsed": false
   },
   "outputs": [],
   "source": [
    "b35 = gpd.GeoDataFrame(b35)"
   ]
  },
  {
   "cell_type": "code",
   "execution_count": 199,
   "metadata": {
    "collapsed": false
   },
   "outputs": [
    {
     "data": {
      "text/plain": [
       "<matplotlib.axes._subplots.AxesSubplot at 0x115dde110>"
      ]
     },
     "execution_count": 199,
     "metadata": {},
     "output_type": "execute_result"
    },
    {
     "data": {
      "image/png": "[encoded data removed]",
      "text/plain": [
       "<matplotlib.figure.Figure at 0x115dc6f10>"
      ]
     },
     "metadata": {},
     "output_type": "display_data"
    }
   ],
   "source": [
    "b35.plot()"
   ]
  },
  {
   "cell_type": "code",
   "execution_count": 203,
   "metadata": {
    "collapsed": false
   },
   "outputs": [],
   "source": [
    "#that is not what the bus route looks like..."
   ]
  },
  {
   "cell_type": "code",
   "execution_count": null,
   "metadata": {
    "collapsed": false
   },
   "outputs": [],
   "source": []
  },
  {
   "cell_type": "code",
   "execution_count": null,
   "metadata": {
    "collapsed": true
   },
   "outputs": [],
   "source": []
  }
 ],
 "metadata": {
  "kernelspec": {
   "display_name": "Python 2",
   "language": "python",
   "name": "python2"
  }
 },
 "nbformat": 4,
 "nbformat_minor": 2
}
